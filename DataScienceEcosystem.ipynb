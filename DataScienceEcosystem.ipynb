{
 "cells": [
  {
   "cell_type": "markdown",
   "id": "f764eea5-234a-4601-8c49-7b02e50e2e3a",
   "metadata": {},
   "source": [
    "# Data Science Tools and Ecosystem"
   ]
  },
  {
   "cell_type": "markdown",
   "id": "e86f4bd1-a516-48a5-97ee-78ea1009ea29",
   "metadata": {},
   "source": [
    "In this notebook, we explore various Data Science Tools and their Ecosystem"
   ]
  },
  {
   "cell_type": "markdown",
   "id": "f0853a65-0b66-4db0-ab16-7806a934e7ec",
   "metadata": {},
   "source": [
    "## Objectives\n",
    "- Understand the ecosystem of data science tools\n",
    "- Learn about key data science languages and libraries\n",
    "- Practice basic arithmetic operations in Python\n",
    "- Convert time units using Python code"
   ]
  },
  {
   "cell_type": "markdown",
   "id": "1b9b6fe7-8c1b-4b54-9dd1-f66598e24f36",
   "metadata": {},
   "source": [
    "## Data Science Languages\n",
    "- Python\n",
    "- R\n",
    "- SQL\n",
    "- Julia\n",
    "- Scala\n",
    "- Java"
   ]
  },
  {
   "cell_type": "markdown",
   "id": "41d0496f-895d-4f4f-a727-e141cbd9f4f4",
   "metadata": {},
   "source": [
    "## Data Science Libraries\n",
    "- NumPy\n",
    "- Pandas\n",
    "- Matplotlib\n",
    "- Scikit-learn\n",
    "- TensorFlow\n",
    "- Keras"
   ]
  },
  {
   "cell_type": "markdown",
   "id": "fc10e4da-6bfa-4715-9824-3af0169ae1d5",
   "metadata": {},
   "source": [
    "## Data Science Tools\n",
    "\n",
    "| Tool           | Description                          |\n",
    "|----------------|--------------------------------------|\n",
    "| Jupyter Notebook | Interactive computing environment   |\n",
    "| RStudio        | IDE for R                            |\n",
    "| Apache Spark   | Cluster-computing framework          |\n",
    "| TensorFlow     | Machine learning framework           |\n",
    "| RapidMiner     | Data science platform                |\n"
   ]
  },
  {
   "cell_type": "markdown",
   "id": "455b0bbf-43c7-4101-be3d-7321e667f3b0",
   "metadata": {},
   "source": [
    "## Examples of Arithmetic Expressions\n",
    "Below are a few examples of evaluating arithmetic expressions in Python."
   ]
  },
  {
   "cell_type": "code",
   "execution_count": 4,
   "id": "e077a3a7-4acb-44a2-b721-57e1704e813d",
   "metadata": {},
   "outputs": [
    {
     "data": {
      "text/plain": [
       "17"
      ]
     },
     "execution_count": 4,
     "metadata": {},
     "output_type": "execute_result"
    }
   ],
   "source": [
    "# Example: Multiply and add numbers\n",
    "a = 3\n",
    "b = 4\n",
    "result = a * b + 5\n",
    "result"
   ]
  },
  {
   "cell_type": "code",
   "execution_count": 5,
   "id": "e5d7975f-779c-4482-b7ab-c73788296fd3",
   "metadata": {},
   "outputs": [
    {
     "data": {
      "text/plain": [
       "3.3333333333333335"
      ]
     },
     "execution_count": 5,
     "metadata": {},
     "output_type": "execute_result"
    }
   ],
   "source": [
    "# Example: Convert minutes to hours\n",
    "minutes = 200\n",
    "hours = minutes / 60\n",
    "hours"
   ]
  },
  {
   "cell_type": "markdown",
   "id": "ed42016d-6aa2-4d67-89cb-3ed8f414d06b",
   "metadata": {},
   "source": [
    "## Author\n",
    "Metla Subrahmanyam"
   ]
  }
 ],
 "metadata": {
  "kernelspec": {
   "display_name": "Python 3 (ipykernel)",
   "language": "python",
   "name": "python3"
  },
  "language_info": {
   "codemirror_mode": {
    "name": "ipython",
    "version": 3
   },
   "file_extension": ".py",
   "mimetype": "text/x-python",
   "name": "python",
   "nbconvert_exporter": "python",
   "pygments_lexer": "ipython3",
   "version": "3.11.4"
  }
 },
 "nbformat": 4,
 "nbformat_minor": 5
}
